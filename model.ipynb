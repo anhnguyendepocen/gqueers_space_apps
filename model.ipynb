{
 "cells": [
  {
   "cell_type": "code",
   "execution_count": 167,
   "metadata": {},
   "outputs": [],
   "source": [
    "import pandas as pd\n",
    "import matplotlib.pyplot as plt\n",
    "from sklearn import linear_model\n",
    "import statsmodels.api as sm\n",
    "import seaborn as sns"
   ]
  },
  {
   "cell_type": "code",
   "execution_count": 229,
   "metadata": {},
   "outputs": [],
   "source": [
    "# Rome + Unemployment\n",
    "gdp_pred = {'no2':[4.986,3.816,4.312,4.94,4.885,5.189,5.264], \n",
    "            'lights':[0.73903,\n",
    "0.73875,\n",
    "0.83878,\n",
    "0.7267,\n",
    "0.82,\n",
    "0.80528,\n",
    "0.77726\n",
    "],'gdp':[10.2,\n",
    "10.5,\n",
    "10.4,\n",
    "9.9,\n",
    "9.9,\n",
    "9.6,\n",
    "9\n",
    "]}"
   ]
  },
  {
   "cell_type": "code",
   "execution_count": 325,
   "metadata": {},
   "outputs": [],
   "source": [
    "# Rome\n",
    "gdp_pred = {'no2':[4.986,3.816,4.312,4.94,4.885,5.189,5.264], \n",
    "            'lights':[0.73903,\n",
    "0.73875,0.83878,\n",
    "0.7267,0.82,\n",
    "0.80528,0.77726\n",
    "],'gdp':[-0.1,\n",
    "0.1,0.2,\n",
    "0.1,0.1,\n",
    "-0.3,-4.7\n",
    "]}"
   ]
  },
  {
   "cell_type": "code",
   "execution_count": 320,
   "metadata": {},
   "outputs": [],
   "source": [
    "# Rome + NO2 Change + LI Change\n",
    "gdp_pred = {'no2':[1,\n",
    "0.7653429603,\n",
    "0.8648215002,\n",
    "0.9907741677,\n",
    "0.9797432812,\n",
    "1.040713999,\n",
    "1.055756117], \n",
    "            'lights':[1,\n",
    "0.999621125,\n",
    "1.134974223,\n",
    "0.9833159682,\n",
    "1.109562535,\n",
    "1.089644534,\n",
    "1.05172997],'gdp':[-0.1,0.1,0.2,\n",
    "0.1,0.1,\n",
    "-0.3,-4.7\n",
    "]}"
   ]
  },
  {
   "cell_type": "code",
   "execution_count": 330,
   "metadata": {},
   "outputs": [],
   "source": [
    "# Rome Light Intensity + Mobi\n",
    "gdp_pred = {'no2':[4.986,3.816,4.312,4.94,4.885,5.189,5.264], \n",
    "            'lights':[0.73903,\n",
    "0.73875,0.83878,\n",
    "0.7267,0.82,\n",
    "0.80528,0.77726\n",
    "],'mobility': [0,\n",
    "0,\n",
    "0,\n",
    "0,\n",
    "0,\n",
    "0,\n",
    "9],'gdp':[-0.1,\n",
    "0.1,0.2,\n",
    "0.1,0.1,\n",
    "-0.3,-4.7\n",
    "]}"
   ]
  },
  {
   "cell_type": "code",
   "execution_count": 234,
   "metadata": {},
   "outputs": [],
   "source": [
    "# Rome + Binned Lights\n",
    "gdp_pred = {'no2':[4.986,3.816,4.312,4.94,4.885,5.189,5.264], \n",
    "            'lights':[2,\n",
    "2,\n",
    "2.449,\n",
    "2,\n",
    "2,\n",
    "2.397,\n",
    "2],'gdp':[-0.1,\n",
    "0.1,0.2,\n",
    "0.1,0.1,\n",
    "-0.3,-4.7\n",
    "]}"
   ]
  },
  {
   "cell_type": "code",
   "execution_count": 63,
   "metadata": {},
   "outputs": [],
   "source": [
    "# Sweden\n",
    "gdp_pred = {'no2': [1.998,\n",
    "1.519,\n",
    "2,\n",
    "1.906,\n",
    "2.002,\n",
    "1.882,\n",
    "2],\n",
    "           'lights': [0.3161,\n",
    "0.64044,\n",
    "0.43459,\n",
    "0.37798,\n",
    "0.13933,\n",
    "0.8312,\n",
    "0.40654],\n",
    "           'gdp': [0.2,\n",
    "1.3,\n",
    "0.6,\n",
    "-0.2,\n",
    "0.5,\n",
    "0.1,\n",
    "-0.3]}"
   ]
  },
  {
   "cell_type": "code",
   "execution_count": 244,
   "metadata": {},
   "outputs": [],
   "source": [
    "# Sweden\n",
    "gdp_pred = {'no2': [1.998,\n",
    "1.519,\n",
    "2,\n",
    "1.906,\n",
    "2.002,\n",
    "1.882,\n",
    "2],\n",
    "           'lights': [0.3161,\n",
    "0.64044,\n",
    "0.43459,\n",
    "0.37798,\n",
    "0.13933,\n",
    "0.8312,\n",
    "0.40654], 'mobility': [0,\n",
    "0,\n",
    "0,\n",
    "0,\n",
    "0,\n",
    "0,\n",
    "2],\n",
    "           'gdp': [0.2,\n",
    "1.3,\n",
    "0.6,\n",
    "-0.2,\n",
    "0.5,\n",
    "0.1,\n",
    "-0.3]}"
   ]
  },
  {
   "cell_type": "code",
   "execution_count": 213,
   "metadata": {},
   "outputs": [],
   "source": [
    "# Sweden + Binned Lights\n",
    "gdp_pred = {'no2': [1.998,1.519,\n",
    "2,1.906,2.002,1.882,2],\n",
    "           'lights': [2.007,\n",
    "2.28,2.077,2.016,\n",
    "1.019,2.46,3.749],\n",
    "           'gdp': [0.2,\n",
    "1.3,\n",
    "0.6,\n",
    "-0.2,\n",
    "0.5,\n",
    "0.1,\n",
    "-0.3]}"
   ]
  },
  {
   "cell_type": "code",
   "execution_count": 171,
   "metadata": {},
   "outputs": [],
   "source": [
    "# Sweden + GDP _ Lights - Stockholm\n",
    "gdp_pred = {'no2': [1.998,\n",
    "1.519,\n",
    "2,\n",
    "1.906,\n",
    "2.002,\n",
    "1.882,\n",
    "2],\n",
    "           'lights': [0.77,\n",
    "0.71,\n",
    "0.79,\n",
    "0.68,\n",
    "0.75,\n",
    "0.77,\n",
    "0.76],\n",
    "           'gdp': [0.2,\n",
    "1.3,\n",
    "0.6,\n",
    "-0.2,\n",
    "0.5,\n",
    "0.1,\n",
    "-0.3]}"
   ]
  },
  {
   "cell_type": "code",
   "execution_count": 146,
   "metadata": {},
   "outputs": [],
   "source": [
    "# Sweden unemployment + Lights - Stockholm\n",
    "gdp_pred = {'no2': [1.998,\n",
    "1.519,\n",
    "2,\n",
    "1.906,\n",
    "2.002,\n",
    "1.882,\n",
    "2],\n",
    "           'lights': [0.77,\n",
    "0.71,\n",
    "0.79,\n",
    "0.68,\n",
    "0.75,\n",
    "0.77,\n",
    "0.76],\n",
    "           'gdp': [6.3,\n",
    "6.4,\n",
    "6.9,\n",
    "6.7,\n",
    "6.9,\n",
    "6.9,\n",
    "7\n",
    "]}"
   ]
  },
  {
   "cell_type": "code",
   "execution_count": 125,
   "metadata": {},
   "outputs": [],
   "source": [
    "# Sweden unemployment\n",
    "gdp_pred = {'no2': [1.998,\n",
    "1.519,\n",
    "2,\n",
    "1.906,\n",
    "2.002,\n",
    "1.882,\n",
    "2],\n",
    "           'lights': [0.3161,\n",
    "0.64044,\n",
    "0.43459,\n",
    "0.37798,\n",
    "0.13933,\n",
    "0.8312,\n",
    "0.40654],\n",
    "           'gdp': [6.3,\n",
    "6.4,\n",
    "6.9,\n",
    "6.7,\n",
    "6.9,\n",
    "6.9,\n",
    "7\n",
    "]}"
   ]
  },
  {
   "cell_type": "code",
   "execution_count": 193,
   "metadata": {},
   "outputs": [],
   "source": [
    "# Singapore + Light Intensity\n",
    "gdp_pred = {'no2': [2.143,\n",
    "3.351,\n",
    "2.029,\n",
    "1.993,\n",
    "1.755,\n",
    "2.822,\n",
    "2.391],\n",
    "           'lights': [0.79578,\n",
    "0.75545,\n",
    "0.70759,\n",
    "0.7543,\n",
    "0.57307,\n",
    "0.73162,\n",
    "0.82831],\n",
    "           'gdp': [0.8,\n",
    "-0.8,\n",
    "2.3,\n",
    "-0.8,\n",
    "2.2,\n",
    "0.6,\n",
    "-4.7]}\n"
   ]
  },
  {
   "cell_type": "code",
   "execution_count": 239,
   "metadata": {},
   "outputs": [],
   "source": [
    "# Singapore + Light Intensity\n",
    "gdp_pred = {'no2': [2.143,\n",
    "3.351,\n",
    "2.029,\n",
    "1.993,\n",
    "1.755,\n",
    "2.822,\n",
    "2.391],\n",
    "           'lights': [0.79578,\n",
    "0.75545,\n",
    "0.70759,\n",
    "0.7543,\n",
    "0.57307,\n",
    "0.73162,\n",
    "0.82831], 'mobility': [0,\n",
    "0,\n",
    "0,\n",
    "0,\n",
    "0,\n",
    "0,\n",
    "7],\n",
    "           'gdp': [0.8,\n",
    "-0.8,\n",
    "2.3,\n",
    "-0.8,\n",
    "2.2,\n",
    "0.6,\n",
    "-4.7]}\n"
   ]
  },
  {
   "cell_type": "code",
   "execution_count": 197,
   "metadata": {},
   "outputs": [],
   "source": [
    "# Singapore + Binned Lights\n",
    "gdp_pred = {'no2': [2.143,\n",
    "3.351,\n",
    "2.029,\n",
    "1.993,\n",
    "1.755,\n",
    "2.822,\n",
    "2.391],\n",
    "           'lights': [2.143,\n",
    "3.351,\n",
    "2.029,\n",
    "1.993,\n",
    "1.755,\n",
    "2.822,\n",
    "2.391],\n",
    "           'gdp': [0.8,\n",
    "-0.8,\n",
    "2.3,\n",
    "-0.8,\n",
    "2.2,\n",
    "0.6,\n",
    "-4.7]}\n"
   ]
  },
  {
   "cell_type": "code",
   "execution_count": 157,
   "metadata": {},
   "outputs": [],
   "source": [
    "# Russia\n",
    "gdp_pred = {'no2': [4.099,\n",
    "4.97,\n",
    "5.236,\n",
    "4.244,\n",
    "2.411,\n",
    "2.514,\n",
    "3.714],\n",
    "           'lights': [0.43321,\n",
    "0.55353,\n",
    "0.66317,\n",
    "0.52652,\n",
    "0.14322,\n",
    "0.50751,\n",
    "0.65997],\n",
    "           'gdp': [0.4,\n",
    "0.4,\n",
    "-0.1,\n",
    "0.6,\n",
    "0.5,\n",
    "0.6,\n",
    "0.6]}\n"
   ]
  },
  {
   "cell_type": "code",
   "execution_count": 183,
   "metadata": {},
   "outputs": [],
   "source": [
    "# Russia + Binned Lights\n",
    "gdp_pred = {'no2': [4.099,\n",
    "4.97,\n",
    "5.236,\n",
    "4.244,\n",
    "2.411,\n",
    "2.514,\n",
    "3.714],\n",
    "           'lights': [2.003,\n",
    "2.22,\n",
    "2.2,\n",
    "2.037,\n",
    "1.315,\n",
    "2.057,\n",
    "2.054],\n",
    "           'gdp': [0.4,\n",
    "0.4,\n",
    "-0.1,\n",
    "0.6,\n",
    "0.5,\n",
    "0.6,\n",
    "0.6]}\n"
   ]
  },
  {
   "cell_type": "code",
   "execution_count": 219,
   "metadata": {},
   "outputs": [],
   "source": [
    "# Philippines + Binned Lights\n",
    "gdp_pred = {'no2': [1.687,\n",
    "1.877,\n",
    "2.38,\n",
    "1.597,\n",
    "1.904,\n",
    "1.868,\n",
    "1.67],\n",
    "           'lights': [2,\n",
    "2.028,\n",
    "1.847,\n",
    "1.04,\n",
    "1.786,\n",
    "2.06,\n",
    "1.432],\n",
    "           'gdp': [1.3,\n",
    "2,\n",
    "0.6,\n",
    "1.2,\n",
    "2.3,\n",
    "1.8,\n",
    "-5.1]}\n"
   ]
  },
  {
   "cell_type": "code",
   "execution_count": 272,
   "metadata": {},
   "outputs": [],
   "source": [
    "# Philippines + Binned Lights v2\n",
    "gdp_pred = {'no2': [1.687,\n",
    "1.877,\n",
    "2.38,\n",
    "1.597,\n",
    "1.904,\n",
    "1.868,\n",
    "1.67],\n",
    "           'lights': [2.107,\n",
    "1.26,\n",
    "2.492,\n",
    "2.146,\n",
    "2,\n",
    "2.122,\n",
    "2.164],\n",
    "           'gdp': [1.3,\n",
    "2,\n",
    "0.6,\n",
    "1.2,\n",
    "2.3,\n",
    "1.8,\n",
    "-5.1]}\n"
   ]
  },
  {
   "cell_type": "code",
   "execution_count": 283,
   "metadata": {},
   "outputs": [],
   "source": [
    "# Philippines + Binned Lights v2\n",
    "gdp_pred = {'no2': [1.687,\n",
    "1.877,\n",
    "2.38,\n",
    "1.597,\n",
    "1.904,\n",
    "1.868,\n",
    "1.67],\n",
    "           'lights': [2.107,\n",
    "2.045,\n",
    "2.492,\n",
    "2.146,\n",
    "2,\n",
    "2.122,\n",
    "2.164], 'mobility': [0,\n",
    "0,\n",
    "0,\n",
    "0,\n",
    "0,\n",
    "0,\n",
    "2],\n",
    "           'gdp': [1.3,\n",
    "2,\n",
    "0.6,\n",
    "1.2,\n",
    "2.3,\n",
    "1.8,\n",
    "-5.1]}\n"
   ]
  },
  {
   "cell_type": "code",
   "execution_count": 288,
   "metadata": {},
   "outputs": [],
   "source": [
    "# Philippines + Intensity v2\n",
    "gdp_pred = {'no2': [1.687,\n",
    "1.877,\n",
    "2.38,\n",
    "1.597,\n",
    "1.904,\n",
    "1.868,\n",
    "1.67],\n",
    "           'lights': [0.43368,\n",
    "0.23809,\n",
    "0.71258,\n",
    "0.40183,\n",
    "0.34468,\n",
    "0.46651,\n",
    "0.49679], 'mobility': [0,\n",
    "0,\n",
    "0,\n",
    "0,\n",
    "0,\n",
    "0,\n",
    "2],\n",
    "           'gdp': [1.3,\n",
    "2,\n",
    "0.6,\n",
    "1.2,\n",
    "2.3,\n",
    "1.8,\n",
    "-5.1]}\n"
   ]
  },
  {
   "cell_type": "code",
   "execution_count": 288,
   "metadata": {},
   "outputs": [],
   "source": [
    "# Philippines + Intensity v2\n",
    "gdp_pred = {'no2': [1.687,\n",
    "1.877,\n",
    "2.38,\n",
    "1.597,\n",
    "1.904,\n",
    "1.868,\n",
    "1.67],\n",
    "           'lights': [0.43368,\n",
    "0.23809,\n",
    "0.71258,\n",
    "0.40183,\n",
    "0.34468,\n",
    "0.46651,\n",
    "0.49679], 'mobility': [0,\n",
    "0,\n",
    "0,\n",
    "0,\n",
    "0,\n",
    "0,\n",
    "2],\n",
    "           'gdp': [1.3,\n",
    "2,\n",
    "0.6,\n",
    "1.2,\n",
    "2.3,\n",
    "1.8,\n",
    "-5.1]}\n"
   ]
  },
  {
   "cell_type": "code",
   "execution_count": 202,
   "metadata": {},
   "outputs": [],
   "source": [
    "# Japan Lights Binned\n",
    "gdp_pred = {'no2': [1.651,\n",
    "2.215,\n",
    "2.431,\n",
    "2.332,\n",
    "2.408,\n",
    "1.918,\n",
    "1.826],\n",
    "           'lights': [2.061,\n",
    "3.524,\n",
    "4.357,\n",
    "3.107,\n",
    "1.495,\n",
    "3.188,\n",
    "1.964],\n",
    "           'gdp': [-0.8,\n",
    "0.6,\n",
    "0.6,\n",
    "0.5,\n",
    "0,\n",
    "-1.9,\n",
    "-0.9]}"
   ]
  },
  {
   "cell_type": "code",
   "execution_count": 207,
   "metadata": {},
   "outputs": [],
   "source": [
    "# Japan Light Intensity\n",
    "gdp_pred = {'lights': [0.32742,\n",
    "0.53225,\n",
    "0.66423,\n",
    "0.62699,\n",
    "0.59777,\n",
    "0.45602,\n",
    "0.41203],\n",
    "           'no2': [2.061,\n",
    "3.524,\n",
    "4.357,\n",
    "3.107,\n",
    "1.495,\n",
    "3.188,\n",
    "1.964],\n",
    "           'gdp': [-0.8,\n",
    "0.6,\n",
    "0.6,\n",
    "0.5,\n",
    "0,\n",
    "-1.9,\n",
    "-0.9]}"
   ]
  },
  {
   "cell_type": "code",
   "execution_count": 253,
   "metadata": {},
   "outputs": [],
   "source": [
    "# Japan Light Intensity\n",
    "gdp_pred = {'lights': [0.32742,\n",
    "0.53225,\n",
    "0.66423,\n",
    "0.62699,\n",
    "0.59777,\n",
    "0.45602,\n",
    "0.41203],\n",
    "           'no2': [2.061,\n",
    "3.524,\n",
    "4.357,\n",
    "3.107,\n",
    "1.495,\n",
    "3.188,\n",
    "1.964], 'mobility': [0,\n",
    "0,\n",
    "0,\n",
    "0,\n",
    "0,\n",
    "0,\n",
    "3],\n",
    "           'gdp': [-0.8,\n",
    "0.6,\n",
    "0.6,\n",
    "0.5,\n",
    "0,\n",
    "-1.9,\n",
    "-0.9]}"
   ]
  },
  {
   "cell_type": "code",
   "execution_count": 264,
   "metadata": {},
   "outputs": [
    {
     "data": {
      "text/plain": [
       "{'no2': [4.986, 3.816, 4.312, 4.94, 4.885, 5.189, 5.264],\n",
       " 'lights': [0.73903, 0.73875, 0.83878, 0.7267, 0.82, 0.80528, 0.77726],\n",
       " 'mobility': [0, 0, 0, 0, 0, 0, 9],\n",
       " 'gdp': [-0.1, 0.1, 0.2, 0.1, 0.1, -0.3, -4.7]}"
      ]
     },
     "execution_count": 264,
     "metadata": {},
     "output_type": "execute_result"
    }
   ],
   "source": [
    "gdp_pred"
   ]
  },
  {
   "cell_type": "code",
   "execution_count": 266,
   "metadata": {},
   "outputs": [
    {
     "data": {
      "text/plain": [
       "[4.986, 3.816, 4.312, 4.94, 4.885, 5.189, 5.264]"
      ]
     },
     "execution_count": 266,
     "metadata": {},
     "output_type": "execute_result"
    }
   ],
   "source": [
    "gdp_pred['no2']"
   ]
  },
  {
   "cell_type": "code",
   "execution_count": 332,
   "metadata": {},
   "outputs": [],
   "source": [
    "def solve_gdp(country):\n",
    "    df = pd.DataFrame(country, columns=['no2','lights','mobility','gdp'])\n",
    "    X = df[['no2','lights', 'mobility']]\n",
    "    Y = df['gdp']\n",
    "    corr = df.corr()\n",
    "    print(sns.heatmap(corr))\n",
    "    regr = linear_model.LinearRegression()\n",
    "    regr.fit(X, Y)\n",
    "    print('Intercept: \\n', regr.intercept_)\n",
    "    print('Coefficients: \\n', regr.coef_)\n",
    "    X = sm.add_constant(X) # adding a constant\n",
    "    model = sm.OLS(Y, X).fit()\n",
    "    predictions = model.predict(X) \n",
    "    print_model = model.summary()\n",
    "    print(print_model)\n",
    "    new_no2 = 5.641\n",
    "    new_lights = 0.74904\n",
    "    mobility = 26\n",
    "    print ('Predicted GDP: \\n', regr.predict([[new_no2,new_lights,mobility]]))"
   ]
  },
  {
   "cell_type": "code",
   "execution_count": 335,
   "metadata": {
    "collapsed": true
   },
   "outputs": [
    {
     "name": "stdout",
     "output_type": "stream",
     "text": [
      "AxesSubplot(0.125,0.125;0.62x0.755)\n",
      "Intercept: \n",
      " 0.742344178744822\n",
      "Coefficients: \n",
      " [-0.22417775  0.41803364 -0.50968815]\n",
      "                            OLS Regression Results                            \n",
      "==============================================================================\n",
      "Dep. Variable:                    gdp   R-squared:                       0.995\n",
      "Model:                            OLS   Adj. R-squared:                  0.990\n",
      "Method:                 Least Squares   F-statistic:                     190.7\n",
      "Date:                Fri, 29 May 2020   Prob (F-statistic):           0.000639\n",
      "Time:                        23:46:56   Log-Likelihood:                 4.9245\n",
      "No. Observations:                   7   AIC:                            -1.849\n",
      "Df Residuals:                       3   BIC:                            -2.065\n",
      "Df Model:                           3                                         \n",
      "Covariance Type:            nonrobust                                         \n",
      "==============================================================================\n",
      "                 coef    std err          t      P>|t|      [0.025      0.975]\n",
      "------------------------------------------------------------------------------\n",
      "const          0.7423      1.460      0.508      0.646      -3.904       5.389\n",
      "no2           -0.2242      0.158     -1.417      0.251      -0.728       0.279\n",
      "lights         0.4180      1.681      0.249      0.820      -4.932       5.768\n",
      "mobility      -0.5097      0.024    -21.081      0.000      -0.587      -0.433\n",
      "==============================================================================\n",
      "Omnibus:                          nan   Durbin-Watson:                   1.948\n",
      "Prob(Omnibus):                    nan   Jarque-Bera (JB):                0.411\n",
      "Skew:                          -0.418   Prob(JB):                        0.814\n",
      "Kurtosis:                       2.157   Cond. No.                         163.\n",
      "==============================================================================\n",
      "\n",
      "Warnings:\n",
      "[1] Standard Errors assume that the covariance matrix of the errors is correctly specified.\n"
     ]
    },
    {
     "name": "stderr",
     "output_type": "stream",
     "text": [
      "C:\\ProgramData\\Anaconda3\\lib\\site-packages\\numpy\\core\\fromnumeric.py:2542: FutureWarning: Method .ptp is deprecated and will be removed in a future version. Use numpy.ptp instead.\n",
      "  return ptp(axis=axis, out=out, **kwargs)\n",
      "C:\\ProgramData\\Anaconda3\\lib\\site-packages\\statsmodels\\stats\\stattools.py:71: ValueWarning: omni_normtest is not valid with less than 8 observations; 7 samples were given.\n",
      "  \"samples were given.\" % int(n), ValueWarning)\n"
     ]
    },
    {
     "data": {
      "image/png": "[encoded data removed]",
      "text/plain": [
       "<Figure size 432x288 with 2 Axes>"
      ]
     },
     "metadata": {
      "needs_background": "light"
     },
     "output_type": "display_data"
    }
   ],
   "source": [
    "df = pd.DataFrame(gdp_pred, columns=['no2','lights','mobility','gdp'])\n",
    "X = df[['no2','lights', 'mobility']]\n",
    "Y = df['gdp']\n",
    "corr = df.corr()\n",
    "print(sns.heatmap(corr))\n",
    "regr = linear_model.LinearRegression()\n",
    "regr.fit(X, Y)\n",
    "print('Intercept: \\n', regr.intercept_)\n",
    "print('Coefficients: \\n', regr.coef_)\n",
    "X = sm.add_constant(X) # adding a constant\n",
    "model = sm.OLS(Y, X).fit()\n",
    "predictions = model.predict(X) \n",
    "print_model = model.summary()\n",
    "print(print_model)"
   ]
  },
  {
   "cell_type": "code",
   "execution_count": 336,
   "metadata": {},
   "outputs": [
    {
     "name": "stdout",
     "output_type": "stream",
     "text": [
      "Predicted GDP: \n",
      " [-13.4610104]\n"
     ]
    }
   ],
   "source": [
    "new_no2 = 5.641\n",
    "new_lights = 0.74904\n",
    "mobility = 26\n",
    "print ('Predicted GDP: \\n', regr.predict([[new_no2,new_lights,mobility]]))"
   ]
  },
  {
   "cell_type": "code",
   "execution_count": 289,
   "metadata": {},
   "outputs": [
    {
     "name": "stdout",
     "output_type": "stream",
     "text": [
      "AxesSubplot(0.125,0.125;0.62x0.755)\n",
      "Intercept: \n",
      " 1.8444560660809632\n",
      "Coefficients: \n",
      " [ 0.76986906 -4.07191315 -3.10362583]\n",
      "                            OLS Regression Results                            \n",
      "==============================================================================\n",
      "Dep. Variable:                    gdp   R-squared:                       0.987\n",
      "Model:                            OLS   Adj. R-squared:                  0.974\n",
      "Method:                 Least Squares   F-statistic:                     74.61\n",
      "Date:                Fri, 29 May 2020   Prob (F-statistic):            0.00257\n",
      "Time:                        19:43:38   Log-Likelihood:               -0.86072\n",
      "No. Observations:                   7   AIC:                             9.721\n",
      "Df Residuals:                       3   BIC:                             9.505\n",
      "Df Model:                           3                                         \n",
      "Covariance Type:            nonrobust                                         \n",
      "==============================================================================\n",
      "                 coef    std err          t      P>|t|      [0.025      0.975]\n",
      "------------------------------------------------------------------------------\n",
      "const          1.8445      1.407      1.311      0.281      -2.632       6.321\n",
      "no2            0.7699      0.940      0.819      0.473      -2.223       3.763\n",
      "lights        -4.0719      1.607     -2.534      0.085      -9.185       1.041\n",
      "mobility      -3.1036      0.266    -11.653      0.001      -3.951      -2.256\n",
      "==============================================================================\n",
      "Omnibus:                          nan   Durbin-Watson:                   1.252\n",
      "Prob(Omnibus):                    nan   Jarque-Bera (JB):                0.828\n",
      "Skew:                           0.567   Prob(JB):                        0.661\n",
      "Kurtosis:                       1.753   Cond. No.                         27.5\n",
      "==============================================================================\n",
      "\n",
      "Warnings:\n",
      "[1] Standard Errors assume that the covariance matrix of the errors is correctly specified.\n"
     ]
    },
    {
     "name": "stderr",
     "output_type": "stream",
     "text": [
      "C:\\ProgramData\\Anaconda3\\lib\\site-packages\\numpy\\core\\fromnumeric.py:2542: FutureWarning: Method .ptp is deprecated and will be removed in a future version. Use numpy.ptp instead.\n",
      "  return ptp(axis=axis, out=out, **kwargs)\n",
      "C:\\ProgramData\\Anaconda3\\lib\\site-packages\\statsmodels\\stats\\stattools.py:71: ValueWarning: omni_normtest is not valid with less than 8 observations; 7 samples were given.\n",
      "  \"samples were given.\" % int(n), ValueWarning)\n"
     ]
    },
    {
     "data": {
      "image/png": "[encoded data removed]",
      "text/plain": [
       "<Figure size 432x288 with 2 Axes>"
      ]
     },
     "metadata": {
      "needs_background": "light"
     },
     "output_type": "display_data"
    }
   ],
   "source": [
    "solve_gdp(gdp_pred)"
   ]
  },
  {
   "cell_type": "code",
   "execution_count": 326,
   "metadata": {},
   "outputs": [
    {
     "data": {
      "text/html": [
       "<div>\n",
       "<style scoped>\n",
       "    .dataframe tbody tr th:only-of-type {\n",
       "        vertical-align: middle;\n",
       "    }\n",
       "\n",
       "    .dataframe tbody tr th {\n",
       "        vertical-align: top;\n",
       "    }\n",
       "\n",
       "    .dataframe thead th {\n",
       "        text-align: right;\n",
       "    }\n",
       "</style>\n",
       "<table border=\"1\" class=\"dataframe\">\n",
       "  <thead>\n",
       "    <tr style=\"text-align: right;\">\n",
       "      <th></th>\n",
       "      <th>no2</th>\n",
       "      <th>lights</th>\n",
       "      <th>gdp</th>\n",
       "    </tr>\n",
       "  </thead>\n",
       "  <tbody>\n",
       "    <tr>\n",
       "      <th>0</th>\n",
       "      <td>4.986</td>\n",
       "      <td>0.73903</td>\n",
       "      <td>-0.1</td>\n",
       "    </tr>\n",
       "    <tr>\n",
       "      <th>1</th>\n",
       "      <td>3.816</td>\n",
       "      <td>0.73875</td>\n",
       "      <td>0.1</td>\n",
       "    </tr>\n",
       "    <tr>\n",
       "      <th>2</th>\n",
       "      <td>4.312</td>\n",
       "      <td>0.83878</td>\n",
       "      <td>0.2</td>\n",
       "    </tr>\n",
       "    <tr>\n",
       "      <th>3</th>\n",
       "      <td>4.940</td>\n",
       "      <td>0.72670</td>\n",
       "      <td>0.1</td>\n",
       "    </tr>\n",
       "    <tr>\n",
       "      <th>4</th>\n",
       "      <td>4.885</td>\n",
       "      <td>0.82000</td>\n",
       "      <td>0.1</td>\n",
       "    </tr>\n",
       "    <tr>\n",
       "      <th>5</th>\n",
       "      <td>5.189</td>\n",
       "      <td>0.80528</td>\n",
       "      <td>-0.3</td>\n",
       "    </tr>\n",
       "    <tr>\n",
       "      <th>6</th>\n",
       "      <td>5.264</td>\n",
       "      <td>0.77726</td>\n",
       "      <td>-4.7</td>\n",
       "    </tr>\n",
       "  </tbody>\n",
       "</table>\n",
       "</div>"
      ],
      "text/plain": [
       "     no2   lights  gdp\n",
       "0  4.986  0.73903 -0.1\n",
       "1  3.816  0.73875  0.1\n",
       "2  4.312  0.83878  0.2\n",
       "3  4.940  0.72670  0.1\n",
       "4  4.885  0.82000  0.1\n",
       "5  5.189  0.80528 -0.3\n",
       "6  5.264  0.77726 -4.7"
      ]
     },
     "execution_count": 326,
     "metadata": {},
     "output_type": "execute_result"
    }
   ],
   "source": [
    "df = pd.DataFrame(gdp_pred, columns=['no2','lights','gdp'])\n",
    "X = df[['no2','lights']]\n",
    "Y = df['gdp']\n",
    "df"
   ]
  },
  {
   "cell_type": "code",
   "execution_count": 327,
   "metadata": {},
   "outputs": [
    {
     "data": {
      "text/plain": [
       "<matplotlib.axes._subplots.AxesSubplot at 0x24ef87bb550>"
      ]
     },
     "execution_count": 327,
     "metadata": {},
     "output_type": "execute_result"
    },
    {
     "data": {
      "image/png": "[encoded data removed]",
      "text/plain": [
       "<Figure size 432x288 with 2 Axes>"
      ]
     },
     "metadata": {
      "needs_background": "light"
     },
     "output_type": "display_data"
    }
   ],
   "source": [
    "corr = df.corr()\n",
    "sns.heatmap(corr)"
   ]
  },
  {
   "cell_type": "code",
   "execution_count": 328,
   "metadata": {},
   "outputs": [
    {
     "name": "stdout",
     "output_type": "stream",
     "text": [
      "Intercept: \n",
      " 5.774978054708562\n",
      "Coefficients: \n",
      " [-1.62154632  1.67502083]\n"
     ]
    }
   ],
   "source": [
    "# with sklearn\n",
    "regr = linear_model.LinearRegression()\n",
    "regr.fit(X, Y)\n",
    "print('Intercept: \\n', regr.intercept_)\n",
    "print('Coefficients: \\n', regr.coef_)"
   ]
  },
  {
   "cell_type": "code",
   "execution_count": 329,
   "metadata": {},
   "outputs": [
    {
     "name": "stdout",
     "output_type": "stream",
     "text": [
      "Predicted GDP: \n",
      " [-2.11750715]\n"
     ]
    }
   ],
   "source": [
    "new_no2 = 5.641\n",
    "new_lights = 0.74904\n",
    "mo\n",
    "print ('Predicted GDP: \\n', regr.predict([[new_no2,new_lights]]))"
   ]
  },
  {
   "cell_type": "code",
   "execution_count": 324,
   "metadata": {},
   "outputs": [
    {
     "name": "stdout",
     "output_type": "stream",
     "text": [
      "                            OLS Regression Results                            \n",
      "==============================================================================\n",
      "Dep. Variable:                    gdp   R-squared:                       0.222\n",
      "Model:                            OLS   Adj. R-squared:                 -0.167\n",
      "Method:                 Least Squares   F-statistic:                    0.5705\n",
      "Date:                Fri, 29 May 2020   Prob (F-statistic):              0.605\n",
      "Time:                        22:55:58   Log-Likelihood:                -12.593\n",
      "No. Observations:                   7   AIC:                             31.19\n",
      "Df Residuals:                       4   BIC:                             31.02\n",
      "Df Model:                           2                                         \n",
      "Covariance Type:            nonrobust                                         \n",
      "==============================================================================\n",
      "                 coef    std err          t      P>|t|      [0.025      0.975]\n",
      "------------------------------------------------------------------------------\n",
      "const          5.7750     15.234      0.379      0.724     -36.523      48.073\n",
      "no2           -8.0850      7.572     -1.068      0.346     -29.109      12.939\n",
      "lights         1.2379     13.132      0.094      0.929     -35.223      37.699\n",
      "==============================================================================\n",
      "Omnibus:                          nan   Durbin-Watson:                   1.512\n",
      "Prob(Omnibus):                    nan   Jarque-Bera (JB):                2.360\n",
      "Skew:                          -1.392   Prob(JB):                        0.307\n",
      "Kurtosis:                       3.581   Cond. No.                         46.6\n",
      "==============================================================================\n",
      "\n",
      "Warnings:\n",
      "[1] Standard Errors assume that the covariance matrix of the errors is correctly specified.\n"
     ]
    },
    {
     "name": "stderr",
     "output_type": "stream",
     "text": [
      "C:\\ProgramData\\Anaconda3\\lib\\site-packages\\numpy\\core\\fromnumeric.py:2542: FutureWarning: Method .ptp is deprecated and will be removed in a future version. Use numpy.ptp instead.\n",
      "  return ptp(axis=axis, out=out, **kwargs)\n",
      "C:\\ProgramData\\Anaconda3\\lib\\site-packages\\statsmodels\\stats\\stattools.py:71: ValueWarning: omni_normtest is not valid with less than 8 observations; 7 samples were given.\n",
      "  \"samples were given.\" % int(n), ValueWarning)\n"
     ]
    }
   ],
   "source": [
    "X = sm.add_constant(X) # adding a constant\n",
    "model = sm.OLS(Y, X).fit()\n",
    "predictions = model.predict(X) \n",
    "print_model = model.summary()\n",
    "print(print_model)"
   ]
  },
  {
   "cell_type": "code",
   "execution_count": 145,
   "metadata": {},
   "outputs": [],
   "source": [
    "df['pred'] = model.predict(X)"
   ]
  },
  {
   "cell_type": "code",
   "execution_count": 81,
   "metadata": {},
   "outputs": [
    {
     "data": {
      "text/plain": [
       "0   -0.017293\n",
       "dtype: float64"
      ]
     },
     "execution_count": 81,
     "metadata": {},
     "output_type": "execute_result"
    }
   ],
   "source": [
    "model.predict(pd.DataFrame({'const':[1], 'no2': [2], 'lights': [0.53755]}))"
   ]
  }
 ],
 "metadata": {
  "kernelspec": {
   "display_name": "Python 3",
   "language": "python",
   "name": "python3"
  },
  "language_info": {
   "codemirror_mode": {
    "name": "ipython",
    "version": 3
   },
   "file_extension": ".py",
   "mimetype": "text/x-python",
   "name": "python",
   "nbconvert_exporter": "python",
   "pygments_lexer": "ipython3",
   "version": "3.7.1"
  }
 },
 "nbformat": 4,
 "nbformat_minor": 2
}
